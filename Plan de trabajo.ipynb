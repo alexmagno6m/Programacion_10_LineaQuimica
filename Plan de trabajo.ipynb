{
 "cells": [
  {
   "cell_type": "markdown",
   "id": "ab160e6b-8162-412d-b310-fdbb28e92c84",
   "metadata": {},
   "source": [
    "# Plan de trabajo Programación Grado 10 - Línea de Química Ambiental"
   ]
  },
  {
   "cell_type": "markdown",
   "id": "50a11c62-263e-431f-b356-b6b69fbac472",
   "metadata": {},
   "source": [
    "__Profesor__: Alexander Acevedo Gómez <br>\n",
    "Ingeniero de Sistemas <br>\n",
    "__Universidad Nacional de Colombia__<br> \n",
    "__MSc Modelado y Simulación__<br>\n",
    "__Universidad Jorge Tadeo Lozano__"
   ]
  },
  {
   "cell_type": "markdown",
   "id": "a550a28e-52e6-4ca1-a8fc-542abef89c34",
   "metadata": {},
   "source": [
    "## Introducción"
   ]
  },
  {
   "cell_type": "markdown",
   "id": "be4cfd07-a7e2-48df-a037-a271bdc17e3a",
   "metadata": {},
   "source": [
    "Estimado estudiante: Nuestro colegio está implementando el Enfoque de Aprendizaje autónomo. Para ello, es importante que conozcas cuáles son tus fortalezas y debilidades, las inteligencias que tienes más y menos desarrolladas, las estrategias de aprendizaje que utilizas, las asignaturas que más y menos te gustan, entre otros aspectos.\n",
    "\n",
    "A continuación, vas a elaborar un Plan de trabajo con el fin de definir metas que te ayuden a superar las dificultades en la asignatura y a profundizar más en los temas que te interesan. Con base en los desempeños que tu docente te ha presentado, debes definir metas reales y alcanzables y actividades que te motiven y definir tiempos y recursos para lograrlas."
   ]
  },
  {
   "cell_type": "markdown",
   "id": "347ce060-d589-4d89-8fbb-fa15b0c765d2",
   "metadata": {},
   "source": [
    "## Instrucciones"
   ]
  },
  {
   "cell_type": "markdown",
   "id": "288f5868-66c6-4364-9d56-a3a15c2e374b",
   "metadata": {},
   "source": [
    "Realice el plan de trabajo en su cuaderno con los siguientes parametros para poder obtener los 4 puntos de su valor:\n",
    "\n",
    "1. Realice el siguiente cuadro en una pagina completa en su cuaderno"
   ]
  },
  {
   "cell_type": "markdown",
   "id": "60b60dbf-6483-4523-a8c1-c311ff612131",
   "metadata": {},
   "source": [
    "| Ámbito conceptual                                            | Competencias                                         | Fechas                                                    | Pasos para alcanzar las competencias                   | Recursos                                                                           | Autoevaluación y Firma profesor |\n",
    "|--------------------------------------------------------------|------------------------------------------------------|-----------------------------------------------------------|--------------------------------------------------------|------------------------------------------------------------------------------------|---------------------------------|\n",
    "| Escriba los ambitos conceptuales del periodo correspondiente | Escriba las competencias del periodo correspondiente | Escriba las fechas suministradas en clase por el profesor | Escriba como minimo 3 pasos por cada ambito conceptual | Escriba 4 recursos generales que requiera en el periodo para cumplir con los pasos | Deje vacío este espacio         |"
   ]
  },
  {
   "cell_type": "markdown",
   "id": "8e552505-6e0b-4e5c-ae9c-8f5e548526f2",
   "metadata": {},
   "source": [
    "2. En la casilla Ámbito conceptual, copie los cuatro ambitos conceptuales del periodo actual.\n",
    "3. En la casilla Competencias, copie las cuatro competencias del periodo correspondiente.\n",
    "4. En Fechas escriba las suministradas por el profesor.\n",
    "5. En Pasos para alcanzar las competencias escriba como mínimo 3 pasos por cada una de las competencias, al final debe tener al menos 12 pasos.\n",
    "6. Escriba los recursos que considera va emplear para alcanzar las competencias, minimo 4 recursos generales\n",
    "7. Deje la casilla de autoevaluación vacía."
   ]
  },
  {
   "cell_type": "markdown",
   "id": "d3d76bc0",
   "metadata": {},
   "source": [
    "| Periodo | Ámbito Conceptual                                           | Competencias especificas                                                                                                                                                                                                                     |\n",
    "|---------|-------------------------------------------------------------|----------------------------------------------------------------------------------------------------------------------------------------------------------------------------------------------------------------------------------------------|\n",
    "| 1       | Los algoritmos en la vida común y en la programación.       | Comprueba el correcto planteamiento de un algoritmo identificando sus cuatro características fundamentales                                                                                                                                   |\n",
    "|         | Ejecución de algoritmos                                     | Propone soluciones a problemas propuestos utilizando diagramas de flujo y Pseudocódigo haciendo uso del programa PSeInt y prueba su validez                                                                                                  |\n",
    "|         | Diseño de algoritmos                                        | Entiende la estructura de un algoritmo e identifica y define sus componentes                                                                                                                                                                 |\n",
    "|         | Disposición actitudinal                                     | Manifiesta su compromiso frente a su proyecto de vida a través de su puntualidad y cumplimiento de sus deberes académicos.                                                                                                                   |\n",
    "| 2       | Estructuras de decisión simples y anidadas                  | Identifica adecuadamente los operadores relacionales necesarios para formular correctamente una condición requerida para satisfacer la solución a un problema o reto de programación.                                                        |\n",
    "|         | Casos de uso de las estructuras de decisión                 | Presenta la solución correcta a un problema planteado, empleando asertivamente en Makecode los bloques necesarios para satisfacer las restricciones y programar la Microbit con la solución propuesta.                                       |\n",
    "|         | Programando en la Microbit, empleo de bloques lógicos       | Emplea con suficiencia la representación de diagramas de flujo para representar algoritmos y sus estructuras de decisión, loops.                                                                                                             |\n",
    "|         | Disposición actitudinal y socioemocional                    | Manifiesta su compromiso frente a su proyecto de vida a través de su puntualidad y cumplimiento de sus deberes académicos, sus actitudes reflejan un comportamiento socioemocional esperado y acorde a su edad.                              |\n",
    "| 3       | Microbit: uso de sensores y bloques lógicos                 | Construye asertivamente en Makecode un algoritmo que emplea los sensores incorporados y elementos de entrada de la tarjeta Microbit en combinación con bloques lógicos de decisión para interpretar la solución a un problema.               |\n",
    "|         | Loops                                                       | Programa correctamente en Makecode y PSeInt diferentes tipos de loops definiendo sus variables, iteraciones y condiciones de ruptura identificando el tipo más conveniente según el contexto                                                 |\n",
    "|         | Estructuras de repiticion y recursividad ciclos while y for | Realiza con suficiencia programas en Makecode o PSeInt que integran diferentes tipos de Bucles para presentar la solución a un problema, los ejecuta satisfactoriamente en la Microbit y los representa correctamente en diagramas de flujo. |\n",
    "|         | Disposición actitudinal                                     | Manifiesta su compromiso frente a su proyecto de vida a través de su puntualidad y cumplimiento de sus deberes académicos, sus actitudes reflejan un comportamiento socioemocional esperado y acorde a su edad.                              |\n",
    "| 4       | Subprocesos o funciones                                     | Define con acierto una función, seleccionando correctamente los parámetros según sus tipos de dato, para realizar una tarea específica que pueda ser reutilizable a satisfacción.                                                            |\n",
    "|         | Aplicacion de subprocesos o funciones                        | Invoca correctamente una función, para comprobar su ejecución en la Microbit o PSeInt e integrarlo en un algoritmo junto con estructuras ya vistas asignando continuidad y sentido a un programa.                                                                  |\n",
    "|         | Algoritmos integrados                                       | Expresa su conocimiento adquirido formulando la solucion a un problema através de un algoritmo que integra las estructuras programables observadas y lo ejecuta sin errores en PSeInt o Makecode.                                                                                     |\n",
    "|         | Disposición actitudinal                                     | Manifiesta su compromiso frente a su proyecto de vida a través de su puntualidad y cumplimiento de sus deberes académicos, sus actitudes reflejan un comportamiento socioemocional esperado y acorde a su edad.                              |\n"
   ]
  }
 ],
 "metadata": {
  "kernelspec": {
   "display_name": "Python 3 (ipykernel)",
   "language": "python",
   "name": "python3"
  },
  "language_info": {
   "codemirror_mode": {
    "name": "ipython",
    "version": 3
   },
   "file_extension": ".py",
   "mimetype": "text/x-python",
   "name": "python",
   "nbconvert_exporter": "python",
   "pygments_lexer": "ipython3",
   "version": "3.12.1"
  }
 },
 "nbformat": 4,
 "nbformat_minor": 5
}
