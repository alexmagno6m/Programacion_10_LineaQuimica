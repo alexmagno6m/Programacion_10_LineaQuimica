{
 "cells": [
  {
   "cell_type": "markdown",
   "id": "c867759f-4070-4b50-b64d-efa0018d9426",
   "metadata": {},
   "source": [
    "# Diagramas de flujo No PSeInt"
   ]
  },
  {
   "cell_type": "markdown",
   "id": "7d95824e-f1b2-47ff-ac21-88849b0d3f9a",
   "metadata": {},
   "source": [
    "### Actividador de Leds"
   ]
  },
  {
   "cell_type": "markdown",
   "id": "0a7ccd15-a665-4cb6-96d2-9a1f267a28ec",
   "metadata": {
    "slideshow": {
     "slide_type": "slide"
    },
    "tags": []
   },
   "source": [
    "[Enlace](https://drive.google.com/file/d/1iqhkmzFKqtVP9dWa4r_yFKtUYJhLqZ0T/view?usp=drive_link)"
   ]
  },
  {
   "cell_type": "markdown",
   "id": "34c11893-2c9b-4ed9-9ba1-52ccb74b2bbf",
   "metadata": {},
   "source": [
    "### Doble loop"
   ]
  },
  {
   "cell_type": "markdown",
   "id": "85fe2e46-afc2-4eb6-a81b-80e1f135b6f7",
   "metadata": {},
   "source": [
    "[Enlace](https://drive.google.com/file/d/1FDgE6wjL77mhOlhYMWVU1camdyYVRaOL/view?usp=sharing)"
   ]
  },
  {
   "cell_type": "markdown",
   "id": "6172d9ac-83f4-4f04-8572-2be152d5eeca",
   "metadata": {},
   "source": [
    "### Funciones y algoritmos"
   ]
  },
  {
   "cell_type": "markdown",
   "id": "3de3c8f4-ebec-439d-bb0c-d852cb89d29f",
   "metadata": {},
   "source": [
    "[Enlace](https://drive.google.com/file/d/154lchi1TVM9CxmrhJmsXzgOT5UjwfD5M/view?usp=sharing)"
   ]
  },
  {
   "cell_type": "markdown",
   "id": "48a50e8e-feaf-4ee0-a79d-c53705c0130f",
   "metadata": {},
   "source": [
    "## Funciones en Makecode"
   ]
  },
  {
   "cell_type": "markdown",
   "id": "39051fff-f71a-4774-b8f2-f3053967fb76",
   "metadata": {},
   "source": [
    "- Competencia: 3\n",
    "- Ambito conceptual: \tEstructuras de repiticion y recursividad ciclos while y for\n",
    "- Objetivo: Verificar la comprension adecuada del concepto de funciones creando el diagrama de flujo que las represente y traslarlo a un algoritmo en Makecode"
   ]
  },
  {
   "cell_type": "markdown",
   "id": "3b9000df-d240-4e73-b267-3e3a1ee2a91a",
   "metadata": {},
   "source": [
    "#### Diagrama Excalidraw"
   ]
  },
  {
   "cell_type": "markdown",
   "id": "f1808495-77fd-4736-9429-41bab178418b",
   "metadata": {},
   "source": [
    "[Enlace](https://excalidraw.com/#json=9a70yX9oiXA-bOQzLt01s,JdgqqAzYnSLyfhI0x_MvLA)"
   ]
  },
  {
   "cell_type": "markdown",
   "id": "5c873d64-e64e-4d23-87ef-5d7a2d5be6b0",
   "metadata": {},
   "source": [
    "#### Diagrama drawIO"
   ]
  },
  {
   "cell_type": "markdown",
   "id": "0fcb4557-f054-4817-b6aa-bf344ae79c0e",
   "metadata": {},
   "source": [
    "[Enlace](https://drive.google.com/file/d/1eTOaUPVnaoc3fNpOo-uf8BhR-Roo4CPA/view?usp=sharing)\n",
    "[enlace alternativo](https://viewer.diagrams.net/?tags=%7B%7D&lightbox=1&highlight=0000ff&edit=_blank&layers=1&nav=1&dark=auto#Uhttps%3A%2F%2Fdrive.google.com%2Fuc%3Fid%3D1eTOaUPVnaoc3fNpOo-uf8BhR-Roo4CPA%26export%3Ddownload)"
   ]
  }
 ],
 "metadata": {
  "kernelspec": {
   "display_name": "Python 3 (ipykernel)",
   "language": "python",
   "name": "python3"
  },
  "language_info": {
   "codemirror_mode": {
    "name": "ipython",
    "version": 3
   },
   "file_extension": ".py",
   "mimetype": "text/x-python",
   "name": "python",
   "nbconvert_exporter": "python",
   "pygments_lexer": "ipython3",
   "version": "3.9.4"
  },
  "toc": {
   "base_numbering": 1,
   "nav_menu": {},
   "number_sections": true,
   "sideBar": true,
   "skip_h1_title": false,
   "title_cell": "Table of Contents",
   "title_sidebar": "Contents",
   "toc_cell": false,
   "toc_position": {},
   "toc_section_display": true,
   "toc_window_display": false
  }
 },
 "nbformat": 4,
 "nbformat_minor": 5
}
