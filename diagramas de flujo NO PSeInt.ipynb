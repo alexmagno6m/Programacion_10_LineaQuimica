{
 "cells": [
  {
   "cell_type": "markdown",
   "id": "c867759f-4070-4b50-b64d-efa0018d9426",
   "metadata": {},
   "source": [
    "# Diagramas de flujo No PSeInt"
   ]
  },
  {
   "cell_type": "markdown",
   "id": "7d95824e-f1b2-47ff-ac21-88849b0d3f9a",
   "metadata": {},
   "source": [
    "### Actividador de Leds"
   ]
  },
  {
   "cell_type": "markdown",
   "id": "0a7ccd15-a665-4cb6-96d2-9a1f267a28ec",
   "metadata": {
    "slideshow": {
     "slide_type": "slide"
    },
    "tags": []
   },
   "source": [
    "[Enlace](https://drive.google.com/file/d/1iqhkmzFKqtVP9dWa4r_yFKtUYJhLqZ0T/view?usp=drive_link)"
   ]
  },
  {
   "cell_type": "markdown",
   "id": "34c11893-2c9b-4ed9-9ba1-52ccb74b2bbf",
   "metadata": {},
   "source": [
    "### Doble loop"
   ]
  },
  {
   "cell_type": "markdown",
   "id": "85fe2e46-afc2-4eb6-a81b-80e1f135b6f7",
   "metadata": {},
   "source": [
    "[Enlace](https://drive.google.com/file/d/1FDgE6wjL77mhOlhYMWVU1camdyYVRaOL/view?usp=sharing)"
   ]
  },
  {
   "cell_type": "markdown",
   "id": "6172d9ac-83f4-4f04-8572-2be152d5eeca",
   "metadata": {},
   "source": [
    "### Funciones y algoritmos"
   ]
  },
  {
   "cell_type": "markdown",
   "id": "3de3c8f4-ebec-439d-bb0c-d852cb89d29f",
   "metadata": {},
   "source": [
    "[Enlace](https://drive.google.com/file/d/154lchi1TVM9CxmrhJmsXzgOT5UjwfD5M/view?usp=sharing)"
   ]
  }
 ],
 "metadata": {
  "kernelspec": {
   "display_name": "Python 3 (ipykernel)",
   "language": "python",
   "name": "python3"
  },
  "language_info": {
   "codemirror_mode": {
    "name": "ipython",
    "version": 3
   },
   "file_extension": ".py",
   "mimetype": "text/x-python",
   "name": "python",
   "nbconvert_exporter": "python",
   "pygments_lexer": "ipython3",
   "version": "3.9.4"
  }
 },
 "nbformat": 4,
 "nbformat_minor": 5
}
