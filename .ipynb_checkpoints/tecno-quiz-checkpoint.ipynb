{
 "cells": [
  {
   "cell_type": "markdown",
   "id": "d41c0a63-474b-4546-a443-e75c3d92aece",
   "metadata": {},
   "source": [
    "# Tecno-Quiz"
   ]
  },
  {
   "cell_type": "markdown",
   "id": "5aa2ad66-1e5c-4b30-bfe3-97841d1122a7",
   "metadata": {},
   "source": [
    "Vamos a conocer que tanto sabes de programación, no importa si sabes mucho, poco o nada, la idea es competir, a veces la suerte tambien cuenta!"
   ]
  },
  {
   "cell_type": "markdown",
   "id": "6bb2b7ac-d40e-4d16-9a4a-a0e8db48297a",
   "metadata": {},
   "source": [
    "## Competencia de saberes previos"
   ]
  },
  {
   "cell_type": "markdown",
   "id": "13d9e9ac-cb2e-4774-9acd-63ea5f42ba37",
   "metadata": {},
   "source": [
    "Emplearemos la plataforma __Mentimeter__ para responder una serie de preguntas."
   ]
  },
  {
   "cell_type": "markdown",
   "id": "712374cb-dee7-4097-8798-66ad089f9081",
   "metadata": {},
   "source": [
    "> ### Instrucciones\n",
    ">\n",
    "> - La competencia consta de 12 preguntas de opción multiple con una sola respuesta correcta.\n",
    "> - Las preguntas tienen un tiempo máximo para que respondas, usualmente 7 segundos, si respondes fuera del tiempo, tu respuesta no será tenida en cuenta :(\n",
    "> - Ganarás mas puntos si respondes correctamente y lo haces en menos tiempo que los demás.\n",
    "> - Los primeros cinco lugares obtendrán 5 puntos, los siguientes cinco 4, los otros cinco 3 y asi sucesivamente."
   ]
  },
  {
   "cell_type": "markdown",
   "id": "451ab255-dd32-44a1-ad5f-58cc1fc17850",
   "metadata": {},
   "source": [
    "> ### Ingresa al Quiz!\n",
    ">\n",
    "> 1. Ingresa a la página: [mentimeter.com](https://www.mentimeter.com/es-ES)\n",
    "> 2. Digita el codigo ```8844 0698```\n",
    "> 3. Tambien puedes ingresar directamente a este link: [Link a quiz](https://www.menti.com/al7hwifkncuu).\n",
    "> 4. Escribe tu nombre y apellido, no emplees apodos o disminutivos porque tu puntuación no será tenida en cuenta."
   ]
  },
  {
   "cell_type": "markdown",
   "id": "b9088a73-4035-452d-b40c-55aa9f41648a",
   "metadata": {},
   "source": [
    "### Para obtener tu sello con la nota"
   ]
  },
  {
   "cell_type": "markdown",
   "id": "ea4c94b0-afb9-4ae7-8209-538f195e36eb",
   "metadata": {},
   "source": [
    "Para obtener el sello y recibir la nota, una vez terminado el quiz competencia, debes escribir en tu cuaderno:"
   ]
  },
  {
   "cell_type": "markdown",
   "id": "0ef394bc-a22d-4642-8114-3d863bf0d673",
   "metadata": {},
   "source": [
    "> - __Actividad Inicial - Quiz de competencia__\n",
    "> - __Ámbito conceptual__: Los algoritmos en la vida común y en la programación\n",
    "> - __Competencia cognitiva__: 1\n",
    "> - __Objetivo__: Participar activamente en el quiz propuesto para reconocer saber previos de programación o adquirirlos según sea el caso."
   ]
  }
 ],
 "metadata": {
  "kernelspec": {
   "display_name": "Python 3 (ipykernel)",
   "language": "python",
   "name": "python3"
  },
  "language_info": {
   "codemirror_mode": {
    "name": "ipython",
    "version": 3
   },
   "file_extension": ".py",
   "mimetype": "text/x-python",
   "name": "python",
   "nbconvert_exporter": "python",
   "pygments_lexer": "ipython3",
   "version": "3.9.4"
  }
 },
 "nbformat": 4,
 "nbformat_minor": 5
}
